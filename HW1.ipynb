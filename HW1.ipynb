{
 "cells": [
  {
   "cell_type": "markdown",
   "id": "ad0f46a0-8077-4f7f-9e04-3bb8cf21d3f4",
   "metadata": {},
   "source": [
    "# 111學年大專院校校別學生數 資料集處理 (LATIA 112-1)\n",
    "CSIE 116 [許芷綺](https://linktr.ee/lanternfishhhh)"
   ]
  },
  {
   "cell_type": "markdown",
   "id": "b8bd3fcc-1be3-4d06-8674-363df88ac8b7",
   "metadata": {},
   "source": [
    "## 讀取資料/套件使用"
   ]
  },
