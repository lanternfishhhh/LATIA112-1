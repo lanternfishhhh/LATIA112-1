{
 "cells": [
  {
   "cell_type": "markdown",
   "id": "ad0f46a0-8077-4f7f-9e04-3bb8cf21d3f4",
   "metadata": {},
   "source": [
    "# 111學年大專院校校別學生數 資料集處理 (LATIA 112-1)\n",
    "CSIE 116 [許芷綺](https://linktr.ee/lanternfishhhh)"
   ]
  },
  {
   "cell_type": "markdown",
   "id": "b8bd3fcc-1be3-4d06-8674-363df88ac8b7",
   "metadata": {},
   "source": [
    "## 讀取資料/套件使用"
   ]
  },
{
   "cell_type": "code",
   "execution_count": 1,
   "id": "313b430a-a632-463b-8e7a-d3003260f7de",
   "metadata": {},
   "outputs": [
    {
     "data": {
      "text/plain": [
       "0"
      ]
     },
     "execution_count": 1,
     "metadata": {},
     "output_type": "execute_result"
    }
   ],
   "source": [
    "import pandas as pd\n",
    "import random\n",
    "import matplotlib.pyplot as plt\n",
    "\n",
    "plt.rc('font', family='Microsoft JhengHei') # 讓 plt 可以顯示中文\n",
    "\n",
    "df = pd.read_csv('111_student.csv', encoding='utf-8') # 讀取資料集檔案\n",
    "df.isnull().sum().sum() # 檢查空值數量"
   ]
  },
